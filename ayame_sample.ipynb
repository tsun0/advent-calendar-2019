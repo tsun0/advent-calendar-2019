{
  "nbformat": 4,
  "nbformat_minor": 0,
  "metadata": {
    "colab": {
      "name": "ayame_sample.ipynb",
      "provenance": []
    },
    "kernelspec": {
      "name": "python3",
      "display_name": "Python 3"
    }
  },
  "cells": [
    {
      "cell_type": "markdown",
      "metadata": {
        "id": "gJLIN8coNiuA",
        "colab_type": "text"
      },
      "source": [
        "# アヤメの分類\n",
        "sklearn で用意されているアヤメ（iris）のデータセットを使って、種類不明のアヤメが何の種類に属するか予測する。  \n",
        "使用するデータセットには、次の4つの特徴量と正解ラベルが150個体分含まれている。\n",
        "\n",
        "**特徴量**\n",
        "- Sepal Length （がくの長さ）\n",
        "- Sepal Width （がくの幅）\n",
        "- Petal Length （花びらの長さ）\n",
        "- Petal Width （花びらの幅）\n",
        "\n",
        "**正解ラベル**\n",
        "- setosa / versicolor / virginica のいずれか（target）"
      ]
    },
    {
      "cell_type": "markdown",
      "metadata": {
        "id": "pbel_E-cPR0R",
        "colab_type": "text"
      },
      "source": [
        "## 手順"
      ]
    },
    {
      "cell_type": "markdown",
      "metadata": {
        "id": "qN1_nQYDPfl5",
        "colab_type": "text"
      },
      "source": [
        "### 1. アヤメのデータを用意する"
      ]
    },
    {
      "cell_type": "code",
      "metadata": {
        "id": "81Q4aL8NMUQV",
        "colab_type": "code",
        "outputId": "fce1d8f6-ddbd-4e18-9327-8655c70b2f84",
        "colab": {
          "base_uri": "https://localhost:8080/",
          "height": 204
        }
      },
      "source": [
        "from pandas import DataFrame # データ解析を支援する機能を提供するモジュール\n",
        "from sklearn.datasets import load_iris # アヤメの花(学習するデータ)\n",
        "\n",
        "iris = load_iris() # アヤメの花データ(150個)を読み込む\n",
        "df = DataFrame(iris.data, columns=iris.feature_names) # irisをDataFrameで扱う\n",
        "df['target'] = iris.target_names[iris.target] # アヤメの種別(正解ラベル)を追加する\n",
        "\n",
        "df.head() # データを確認する"
      ],
      "execution_count": 0,
      "outputs": [
        {
          "output_type": "execute_result",
          "data": {
            "text/html": [
              "<div>\n",
              "<style scoped>\n",
              "    .dataframe tbody tr th:only-of-type {\n",
              "        vertical-align: middle;\n",
              "    }\n",
              "\n",
              "    .dataframe tbody tr th {\n",
              "        vertical-align: top;\n",
              "    }\n",
              "\n",
              "    .dataframe thead th {\n",
              "        text-align: right;\n",
              "    }\n",
              "</style>\n",
              "<table border=\"1\" class=\"dataframe\">\n",
              "  <thead>\n",
              "    <tr style=\"text-align: right;\">\n",
              "      <th></th>\n",
              "      <th>sepal length (cm)</th>\n",
              "      <th>sepal width (cm)</th>\n",
              "      <th>petal length (cm)</th>\n",
              "      <th>petal width (cm)</th>\n",
              "      <th>target</th>\n",
              "    </tr>\n",
              "  </thead>\n",
              "  <tbody>\n",
              "    <tr>\n",
              "      <th>0</th>\n",
              "      <td>5.1</td>\n",
              "      <td>3.5</td>\n",
              "      <td>1.4</td>\n",
              "      <td>0.2</td>\n",
              "      <td>setosa</td>\n",
              "    </tr>\n",
              "    <tr>\n",
              "      <th>1</th>\n",
              "      <td>4.9</td>\n",
              "      <td>3.0</td>\n",
              "      <td>1.4</td>\n",
              "      <td>0.2</td>\n",
              "      <td>setosa</td>\n",
              "    </tr>\n",
              "    <tr>\n",
              "      <th>2</th>\n",
              "      <td>4.7</td>\n",
              "      <td>3.2</td>\n",
              "      <td>1.3</td>\n",
              "      <td>0.2</td>\n",
              "      <td>setosa</td>\n",
              "    </tr>\n",
              "    <tr>\n",
              "      <th>3</th>\n",
              "      <td>4.6</td>\n",
              "      <td>3.1</td>\n",
              "      <td>1.5</td>\n",
              "      <td>0.2</td>\n",
              "      <td>setosa</td>\n",
              "    </tr>\n",
              "    <tr>\n",
              "      <th>4</th>\n",
              "      <td>5.0</td>\n",
              "      <td>3.6</td>\n",
              "      <td>1.4</td>\n",
              "      <td>0.2</td>\n",
              "      <td>setosa</td>\n",
              "    </tr>\n",
              "  </tbody>\n",
              "</table>\n",
              "</div>"
            ],
            "text/plain": [
              "   sepal length (cm)  sepal width (cm)  ...  petal width (cm)  target\n",
              "0                5.1               3.5  ...               0.2  setosa\n",
              "1                4.9               3.0  ...               0.2  setosa\n",
              "2                4.7               3.2  ...               0.2  setosa\n",
              "3                4.6               3.1  ...               0.2  setosa\n",
              "4                5.0               3.6  ...               0.2  setosa\n",
              "\n",
              "[5 rows x 5 columns]"
            ]
          },
          "metadata": {
            "tags": []
          },
          "execution_count": 1
        }
      ]
    },
    {
      "cell_type": "markdown",
      "metadata": {
        "id": "UA8nHZ5nQJ7O",
        "colab_type": "text"
      },
      "source": [
        "### 2. 訓練データとテストデータに分ける"
      ]
    },
    {
      "cell_type": "code",
      "metadata": {
        "id": "GskuFKwSQN5_",
        "colab_type": "code",
        "colab": {}
      },
      "source": [
        "# 訓練データとテストデータに分けるためのモジュール\n",
        "from sklearn.model_selection import train_test_split\n",
        "\n",
        "X = df.drop('target', axis=1) # 特徴量4つ×150を格納する\n",
        "Y = df['target'] # 正解ラベル×150を格納する\n",
        "\n",
        "# 訓練データとテストデータが 4:1 になるように分割する。random_stateは乱数を固定\n",
        "X_train, X_test, Y_train, Y_test = train_test_split(X, Y, test_size=0.2, random_state=0)"
      ],
      "execution_count": 0,
      "outputs": []
    },
    {
      "cell_type": "markdown",
      "metadata": {
        "id": "H2onidBEQbj_",
        "colab_type": "text"
      },
      "source": [
        "### 3. 訓練データを使ってモデルを作る\n",
        "今回は決定木を使ってモデルを作成する。"
      ]
    },
    {
      "cell_type": "code",
      "metadata": {
        "id": "lMf_dSN6Qqyj",
        "colab_type": "code",
        "outputId": "be6c1287-20f8-4f34-af14-89990ae7f225",
        "colab": {
          "base_uri": "https://localhost:8080/",
          "height": 401
        }
      },
      "source": [
        "from sklearn.tree import DecisionTreeClassifier, plot_tree # 決定木を使用するためのモジュール\n",
        "\n",
        "# 決定木インスタンス(木の深さ3)\n",
        "estimator = DecisionTreeClassifier(max_depth=3)\n",
        "# 学習モデルを構築する。引数に訓練データの特徴量と、それに対応した正解ラベルを渡す\n",
        "estimator.fit(X_train, Y_train)\n",
        "# 決定木を出力してみる\n",
        "plot_tree(estimator)"
      ],
      "execution_count": 0,
      "outputs": [
        {
          "output_type": "execute_result",
          "data": {
            "text/plain": [
              "[Text(125.55000000000001, 190.26, 'X[3] <= 0.8\\ngini = 0.665\\nsamples = 120\\nvalue = [39, 37, 44]'),\n",
              " Text(83.7, 135.9, 'gini = 0.0\\nsamples = 39\\nvalue = [39, 0, 0]'),\n",
              " Text(167.4, 135.9, 'X[3] <= 1.75\\ngini = 0.496\\nsamples = 81\\nvalue = [0, 37, 44]'),\n",
              " Text(83.7, 81.53999999999999, 'X[2] <= 4.95\\ngini = 0.18\\nsamples = 40\\nvalue = [0, 36, 4]'),\n",
              " Text(41.85, 27.180000000000007, 'gini = 0.056\\nsamples = 35\\nvalue = [0, 34, 1]'),\n",
              " Text(125.55000000000001, 27.180000000000007, 'gini = 0.48\\nsamples = 5\\nvalue = [0, 2, 3]'),\n",
              " Text(251.10000000000002, 81.53999999999999, 'X[2] <= 4.85\\ngini = 0.048\\nsamples = 41\\nvalue = [0, 1, 40]'),\n",
              " Text(209.25, 27.180000000000007, 'gini = 0.5\\nsamples = 2\\nvalue = [0, 1, 1]'),\n",
              " Text(292.95, 27.180000000000007, 'gini = 0.0\\nsamples = 39\\nvalue = [0, 0, 39]')]"
            ]
          },
          "metadata": {
            "tags": []
          },
          "execution_count": 3
        },
        {
          "output_type": "display_data",
          "data": {
            "image/png": "[encoded data removed]",
            "text/plain": [
              "<Figure size 432x288 with 1 Axes>"
            ]
          },
          "metadata": {
            "tags": []
          }
        }
      ]
    },
    {
      "cell_type": "markdown",
      "metadata": {
        "id": "A4lhO3tlQ2Yo",
        "colab_type": "text"
      },
      "source": [
        "### 4. テストデータを使って精度を知る"
      ]
    },
    {
      "cell_type": "code",
      "metadata": {
        "id": "5A5FpOBBQ2KB",
        "colab_type": "code",
        "outputId": "bd4e484c-b914-41b2-de76-6b811088dfd3",
        "colab": {
          "base_uri": "https://localhost:8080/",
          "height": 51
        }
      },
      "source": [
        "# 平均正解率を算出する\n",
        "print('train score:', estimator.score(X_train, Y_train))\n",
        "print('test score:', estimator.score(X_test, Y_test))"
      ],
      "execution_count": 0,
      "outputs": [
        {
          "output_type": "stream",
          "text": [
            "train score: 0.9666666666666667\n",
            "test score: 0.9666666666666667\n"
          ],
          "name": "stdout"
        }
      ]
    },
    {
      "cell_type": "markdown",
      "metadata": {
        "id": "EXFBEDlfkJ_N",
        "colab_type": "text"
      },
      "source": [
        "### 5. 未知のアヤメがどの種類に属するか予測する\n",
        "今回は次の特徴量をもつアヤメの種類を予測する。\n",
        "\n",
        "- Sepal Length：5.2cm\n",
        "- Sepal Width：3.0cm\n",
        "- Petal Length：1.5cm\n",
        "- Petal Width：0.6cm"
      ]
    },
    {
      "cell_type": "code",
      "metadata": {
        "id": "loxD9NcoRCBz",
        "colab_type": "code",
        "outputId": "dab867a1-cc63-48ee-9eac-81adc5ee444b",
        "colab": {
          "base_uri": "https://localhost:8080/",
          "height": 34
        }
      },
      "source": [
        "# 予測したいデータ\n",
        "data = [[5.2, 3.0, 1.5, 0.6]]\n",
        "\n",
        "# 構築したモデルからアヤメの種類を求める\n",
        "estimator.predict(data)"
      ],
      "execution_count": 0,
      "outputs": [
        {
          "output_type": "execute_result",
          "data": {
            "text/plain": [
              "array(['setosa'], dtype=object)"
            ]
          },
          "metadata": {
            "tags": []
          },
          "execution_count": 5
        }
      ]
    }
  ]
}