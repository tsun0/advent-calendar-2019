{
  "nbformat": 4,
  "nbformat_minor": 0,
  "metadata": {
    "colab": {
      "name": "ayame_sample_without_pandas.ipynb",
      "provenance": []
    },
    "kernelspec": {
      "name": "python3",
      "display_name": "Python 3"
    }
  },
  "cells": [
    {
      "cell_type": "markdown",
      "metadata": {
        "id": "Sb9ag0_nTNtV",
        "colab_type": "text"
      },
      "source": [
        "# アヤメの分類\n",
        "sklearn で用意されているアヤメ（iris）のデータセットを使って、種類不明のアヤメが何の種類に属するか予測する。  \n",
        "使用するデータセットには、次の4つの特徴量と正解ラベルが150個体分含まれている。\n",
        "\n",
        "**特徴量**\n",
        "- Sepal Length （がくの長さ）\n",
        "- Sepal Width （がくの幅）\n",
        "- Petal Length （花びらの長さ）\n",
        "- Petal Width （花びらの幅）\n",
        "\n",
        "**正解ラベル**\n",
        "- setosa / versicolor / virginica のいずれか（target）"
      ]
    },
    {
      "cell_type": "markdown",
      "metadata": {
        "id": "hXXJvS2NTW2D",
        "colab_type": "text"
      },
      "source": [
        "## 手順"
      ]
    },
    {
      "cell_type": "markdown",
      "metadata": {
        "id": "nuzHP4XfTbOI",
        "colab_type": "text"
      },
      "source": [
        "### 1. アヤメのデータを用意する"
      ]
    },
    {
      "cell_type": "code",
      "metadata": {
        "id": "pzuxHr8OUAPq",
        "colab_type": "code",
        "colab": {}
      },
      "source": [
        "from sklearn.datasets import load_iris # アヤメの花(学習するデータ)\n",
        "\n",
        "iris = load_iris() # アヤメの花データ(150個)"
      ],
      "execution_count": 0,
      "outputs": []
    },
    {
      "cell_type": "markdown",
      "metadata": {
        "id": "5SNajltzUBxT",
        "colab_type": "text"
      },
      "source": [
        "### 2. 訓練データとテストデータに分ける"
      ]
    },
    {
      "cell_type": "code",
      "metadata": {
        "id": "KCDxM_cUTh80",
        "colab_type": "code",
        "colab": {}
      },
      "source": [
        "# 訓練データとテストデータに分けるためのモジュール\n",
        "from sklearn.model_selection import train_test_split\n",
        "\n",
        "X = iris.data # 特徴量4つ×150 を格納する\n",
        "Y = iris.target # 正解ラベル×150 を格納する\n",
        "\n",
        "# 訓練データとテストデータが 4:1 になるように分割する。random_stateは乱数を固定\n",
        "X_train, X_test, Y_train, Y_test = train_test_split(X, Y, test_size=0.2, random_state=0)"
      ],
      "execution_count": 0,
      "outputs": []
    },
    {
      "cell_type": "markdown",
      "metadata": {
        "id": "N_mgnVT4UP5d",
        "colab_type": "text"
      },
      "source": [
        "### 3. 訓練データを使ってモデルを作る\n",
        "今回は決定木を使ってモデルを作成する。"
      ]
    },
    {
      "cell_type": "code",
      "metadata": {
        "id": "9MhgcMgDUPkm",
        "colab_type": "code",
        "outputId": "d8ea6fb7-14e8-4cfb-ad0b-0c9517468b53",
        "colab": {
          "base_uri": "https://localhost:8080/",
          "height": 401
        }
      },
      "source": [
        "from sklearn.tree import DecisionTreeClassifier, plot_tree # 決定木を使用するためのモジュール\n",
        "\n",
        "# 決定木インスタンス(木の深さ3)\n",
        "estimator = DecisionTreeClassifier(max_depth=3)\n",
        "# 学習モデルを構築する。引数に訓練データの特徴量と、それに対応した正解ラベルを渡す\n",
        "estimator.fit(X_train, Y_train)\n",
        "# 決定木を出力してみる\n",
        "plot_tree(estimator)"
      ],
      "execution_count": 0,
      "outputs": [
        {
          "output_type": "execute_result",
          "data": {
            "text/plain": [
              "[Text(125.55000000000001, 190.26, 'X[2] <= 2.35\\ngini = 0.665\\nsamples = 120\\nvalue = [39, 37, 44]'),\n",
              " Text(83.7, 135.9, 'gini = 0.0\\nsamples = 39\\nvalue = [39, 0, 0]'),\n",
              " Text(167.4, 135.9, 'X[3] <= 1.75\\ngini = 0.496\\nsamples = 81\\nvalue = [0, 37, 44]'),\n",
              " Text(83.7, 81.53999999999999, 'X[2] <= 4.95\\ngini = 0.18\\nsamples = 40\\nvalue = [0, 36, 4]'),\n",
              " Text(41.85, 27.180000000000007, 'gini = 0.056\\nsamples = 35\\nvalue = [0, 34, 1]'),\n",
              " Text(125.55000000000001, 27.180000000000007, 'gini = 0.48\\nsamples = 5\\nvalue = [0, 2, 3]'),\n",
              " Text(251.10000000000002, 81.53999999999999, 'X[2] <= 4.85\\ngini = 0.048\\nsamples = 41\\nvalue = [0, 1, 40]'),\n",
              " Text(209.25, 27.180000000000007, 'gini = 0.5\\nsamples = 2\\nvalue = [0, 1, 1]'),\n",
              " Text(292.95, 27.180000000000007, 'gini = 0.0\\nsamples = 39\\nvalue = [0, 0, 39]')]"
            ]
          },
          "metadata": {
            "tags": []
          },
          "execution_count": 4
        },
        {
          "output_type": "display_data",
          "data": {
            "image/png": "[encoded data removed]",
            "text/plain": [
              "<Figure size 432x288 with 1 Axes>"
            ]
          },
          "metadata": {
            "tags": []
          }
        }
      ]
    },
    {
      "cell_type": "markdown",
      "metadata": {
        "id": "73IwiNyVUcw3",
        "colab_type": "text"
      },
      "source": [
        "### 4. テストデータを使って精度を知る\n"
      ]
    },
    {
      "cell_type": "code",
      "metadata": {
        "id": "TAcwavw4TnSE",
        "colab_type": "code",
        "outputId": "9d214e29-fc5d-43ae-b734-de1b14d3a1cd",
        "colab": {
          "base_uri": "https://localhost:8080/",
          "height": 51
        }
      },
      "source": [
        "# 平均正解率を算出する\n",
        "print('train score:', estimator.score(X_train, Y_train))\n",
        "print('test score:', estimator.score(X_test, Y_test))"
      ],
      "execution_count": 0,
      "outputs": [
        {
          "output_type": "stream",
          "text": [
            "train score: 0.9666666666666667\n",
            "test score: 0.9666666666666667\n"
          ],
          "name": "stdout"
        }
      ]
    },
    {
      "cell_type": "markdown",
      "metadata": {
        "id": "SV7Mw-IFUj4X",
        "colab_type": "text"
      },
      "source": [
        "### 5. 未知のアヤメがどの種類に属するか予測する\n",
        "今回は次の特徴量をもつアヤメの種類を予測する。\n",
        "\n",
        "- Sepal Length：5.2cm\n",
        "- Sepal Width：3.0cm\n",
        "- Petal Length：1.5cm\n",
        "- Petal Width：0.6cm"
      ]
    },
    {
      "cell_type": "code",
      "metadata": {
        "id": "pzCjztj5Uklk",
        "colab_type": "code",
        "outputId": "1b96c69c-b563-41bd-be87-55eeccef7d23",
        "colab": {
          "base_uri": "https://localhost:8080/",
          "height": 34
        }
      },
      "source": [
        "# 予測したいデータ\n",
        "data = [[5.2, 3.0, 1.5, 0.6]]\n",
        "\n",
        "# 構築したモデルからアヤメの種類を求める\n",
        "estimator.predict(data)"
      ],
      "execution_count": 0,
      "outputs": [
        {
          "output_type": "execute_result",
          "data": {
            "text/plain": [
              "array([0])"
            ]
          },
          "metadata": {
            "tags": []
          },
          "execution_count": 7
        }
      ]
    },
    {
      "cell_type": "markdown",
      "metadata": {
        "id": "ST4GsUGEUqbi",
        "colab_type": "text"
      },
      "source": [
        "結果がわかりづらいが、作ったモデルで正解ラベルの値を\n",
        "\n",
        "- setosa : 0\n",
        "- versicolor : 1\n",
        "- virginica : 2\n",
        "\n",
        "で持っているため、**setosa** と予測されたことがわかる。"
      ]
    }
  ]
}